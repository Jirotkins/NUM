{
 "cells": [
  {
   "cell_type": "code",
   "execution_count": 1,
   "metadata": {},
   "outputs": [],
   "source": [
    "import numpy as np\n",
    "\n",
    "def fib(n):\n",
    "    if n == 0:\n",
    "        return 0 # vraci 0, nulty clen se rovna 0\n",
    "    elif n == 1 or n == 2: \n",
    "        return 1 # vraci 1, protoze 1. a 2. clen Fibonacciho posloupnosti se rovna 1\n",
    "    elif n < 0:\n",
    "        return None # pouze pro pripad nefunkci matice -> spatne vypisuje, chyba v zadani\n",
    "    else:\n",
    "        return fib(n-1) + fib(n-2) # rekurzivni reseni fibonacciho posloupnosti\n",
    "\n",
    "# def matrix(n):\n",
    "#     mat = np.zeros((5,5),dtype=int) # vytvori prazdnou matici\n",
    "#     for i in range(n):\n",
    "#         for j in range(n):\n",
    "#             mat[i][j] = fib((3*(i+1)-2*(j+1))) # a[i,j]=F(3i-2j)\n",
    "\n",
    "#     mat[2][4] = 0 # prepocitejte prvek a[3,5]=0\n",
    "#     for j in range(n):\n",
    "#         mat[2][j] = 3*mat[1][j]-2*mat[0][j]  # prepocitejte prvky ve tretim radku a[3,j]=3a[2,j]-2a[1,j]\n",
    "#     return mat # vraci hotovou matici, nelze pouzit kvuli chybnemu zadani"
   ]
  },
  {
   "cell_type": "code",
   "execution_count": 3,
   "metadata": {},
   "outputs": [],
   "source": [
    "def gaussian_elimination(A, b):\n",
    "    n = len(A) # velikost matice (5x5), tedy n=5\n",
    "    # pivot je prvni nenulovy prvek v kazdem radku\n",
    "    # nalevo od pivotu a pod nim se snazime v matici mit jen nuly\n",
    "    for i in range(n):\n",
    "        max_pivot = abs(A[i][i]) # hledame hodnotu pivotu v matici -> nejvyssi cislo bude po uprave matice[0][0]\n",
    "        max_row = i # radek matice s pivotem\n",
    "        for k in range(i + 1, n): # projde cisla pod pivotem\n",
    "            if abs(A[k][i]) > max_pivot: # pokud je cislo pod pivotem vyssi nez pivot, tak se hodnota prepise\n",
    "                max_pivot = abs(A[k][i]) # odkaz na pravidla s praci s pivotem ->\n",
    "                max_row = k              # -> https://people.richland.edu/james/lecture/m116/matrices/pivot.html\n",
    "\n",
    "        # vymenime radek s kterym pracujeme s radkem kde je momentalne pivot\n",
    "        if max_row != i:\n",
    "            A[i], A[max_row] = A[max_row], A[i] # vymeni radky v matici\n",
    "            b[i], b[max_row] = b[max_row], b[i] # vymeni radky ve vektoru\n",
    "\n",
    "        # nulujeme cisla pod pivotem v matici\n",
    "        for k in range(i + 1, n): # (i+1) -> pracujeme s radkem pod pivotem\n",
    "            c = -A[k][i] / A[i][i] # cislo ktere upravuje dalsi hodnoty v matici\n",
    "            for j in range(i, n):\n",
    "                A[k][j] += c * A[i][j] # vynuluje cisla pod pivotem, dalsi hodnoty upravi\n",
    "            b[k] += c * b[i] # u vektoru cislo upravujeme take\n",
    "\n",
    "    print(f\"Matice po uprave: \\n{np.asarray(A)}\")\n",
    "    print(f\"Vektor po uprave: \\n{b}\")\n",
    "\n",
    "    # zpetna substituce \n",
    "    x = [0 for i in range(n)] # pripravi se 5 nulovych hodnot\n",
    "    for i in range(n - 1, -1, -1): # prochazi radky zespod matice\n",
    "        x[i] = b[i] # nejdriv zapise hodnotu z upraveneho vektoru\n",
    "        for k in range(i + 1, n):\n",
    "            x[i] -= A[i][k] * x[k] # odstrani prebytecne promenne -> prevede na druhou stranu rovnice\n",
    "        x[i] /= A[i][i] # vypocet dane promenne, tedy x5,x4,x3,x2,x1...\n",
    "\n",
    "\n",
    "    return x"
   ]
  },
  {
   "cell_type": "code",
   "execution_count": 4,
   "metadata": {},
   "outputs": [
    {
     "name": "stdout",
     "output_type": "stream",
     "text": [
      "Puvodni matice: \n",
      "[[  1   5  13  34  89]\n",
      " [  3   1   0   8  21]\n",
      " [  7  -7 -26 -44   0]\n",
      " [ 55  21   8   3   1]\n",
      " [233  89  34  13   5]]\n",
      "Puvodni vektor: \n",
      "[0, 1, 1, 2, 3]\n",
      "Matice po uprave: \n",
      "[[ 2.33000000e+02  8.90000000e+01  3.40000000e+01  1.30000000e+01\n",
      "   5.00000000e+00]\n",
      " [ 0.00000000e+00 -9.67381974e+00 -2.70214592e+01 -4.43905579e+01\n",
      "  -1.50214592e-01]\n",
      " [ 0.00000000e+00  0.00000000e+00 -4.52528838e-02  1.27533274e+01\n",
      "   8.89068323e+01]\n",
      " [ 0.00000000e+00  0.00000000e+00  0.00000000e+00 -5.29411765e-01\n",
      "  -3.66666667e+00]\n",
      " [ 0.00000000e+00  0.00000000e+00 -3.46944695e-18  0.00000000e+00\n",
      "  -3.83333333e+01]]\n",
      "Vektor po uprave: \n",
      "[3, 0.9098712446351931, 0.42147293700088734, 1.2745098039215381, 0.6666666666669093]\n",
      "Numericke reseni: [-637.4999999988697, 1932.1608695617915, -687.9999999987806, -2.286956521734775, -0.017391304347832422]\n",
      "Analyticke reseni: [-6.37500000e+02  1.93216087e+03 -6.88000000e+02 -2.28695652e+00\n",
      " -1.73913043e-02]\n"
     ]
    }
   ],
   "source": [
    "A = [[1, 5, 13, 34, 89],[3, 1, 0, 8, 21],[7, -7, -26, -44, 0],[55, 21, 8, 3, 1],[233, 89, 34, 13, 5]] #matice A\n",
    "b = [fib(0), fib(1), fib(2), fib(3), fib(4)] #vektor b\n",
    "\n",
    "print(f\"Puvodni matice: \\n{np.asarray(A)}\")\n",
    "print(f\"Puvodni vektor: \\n{b}\")\n",
    "print(f\"Numericke reseni: {gaussian_elimination(A,b)}\") #numericke reseni gaussovy eliminace matice a vektoru\n",
    "print(f\"Analyticke reseni: {np.linalg.solve(np.asarray(A, dtype=float), np.asarray(b, dtype=float))}\") #analyticke reseni pomoci knihovny numpy"
   ]
  }
 ],
 "metadata": {
  "kernelspec": {
   "display_name": "Python 3",
   "language": "python",
   "name": "python3"
  },
  "language_info": {
   "codemirror_mode": {
    "name": "ipython",
    "version": 3
   },
   "file_extension": ".py",
   "mimetype": "text/x-python",
   "name": "python",
   "nbconvert_exporter": "python",
   "pygments_lexer": "ipython3",
   "version": "3.9.13"
  },
  "orig_nbformat": 4,
  "vscode": {
   "interpreter": {
    "hash": "7472b9ba7bd6a63b58b773d228ba868a638234ed88951e6f018fc1cb7f8a884d"
   }
  }
 },
 "nbformat": 4,
 "nbformat_minor": 2
}
